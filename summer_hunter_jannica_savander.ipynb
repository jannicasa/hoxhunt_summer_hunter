{
  "nbformat": 4,
  "nbformat_minor": 0,
  "metadata": {
    "colab": {
      "name": "summer_hunter_jannica_savander.ipynb",
      "provenance": [],
      "collapsed_sections": []
    },
    "kernelspec": {
      "name": "python3",
      "display_name": "Python 3"
    }
  },
  "cells": [
    {
      "cell_type": "markdown",
      "metadata": {
        "id": "c-PPAKDdy3gt"
      },
      "source": [
        "Hi! \n",
        "\n",
        "After reading the articles I decided to try a simple approach based on statistical features of the url – just as mentioned in *Know Your Phish: Novel Techniques for Detecting Phishing Sites and their Targets* and *PhishAri:\n",
        "Automatic Realtime Phishing Detection on Twitter*. In addition, I decided to check the number of redirects, since multiple redirects can confuse the user and the phishing site can avoid to be reported to e.g. PhishTank or Google Safe Browsing. For this reason, I also checked the statistical features of the url for the landing url and not only for the starting url. \n",
        "\n",
        "A very natural next step would be to use the PhishTank or Google SafeBrowsing API (or why not both) to check all of the urls – I did however not implement it because the source of my test data was PhishTank, so the results would not have been very interesting. "
      ]
    },
    {
      "cell_type": "code",
      "metadata": {
        "id": "TCytHE4Py2tY"
      },
      "source": [
        "#taken from phishtank 10.2.2021 (and a few from original assignment)\n",
        "example_urls = [\"https://www.slideshare.net/weaveworks/client-side-monitoring-with-prometheus\",\n",
        "                \"https://intezasanpaolo.com/\",\n",
        "                \"http://sec-login-device.com/\",\n",
        "                \"http://college-eisk.ru/cli/\",\n",
        "                \"https://protocolofdcr-fi.com/preguntas-frecuentes.html\",\n",
        "                \"https://s.post.ch.customer-package.net.u1292505.cp.regruhosting.ru/ch/paie_clients/1111/\",\n",
        "                \"http://colaisteghobnait.net/lebtbbgbql.html?HVtEWzRdxTfcVGvBHJInIkOMJIbhUvgFCdgXsEXRDCfGVhBJniNUHGYV\",\n",
        "                \"https://community-post-mail.com/po/\",\n",
        "                \"https://centralldaconsulta.com/\",\n",
        "                \"http://www.impotspublicservice.com/2eb8d9e9cf0704a9c43ae950280edd43/\",\n",
        "                \"http://52.247.217.14/banks/Meridian/\",\n",
        "                \"https://tan2go-service.com/dkb\",\n",
        "                \"https://soo.gd/1RqA?Rs1083\",\n",
        "                \"https://fixe-orange2.yolasite.com/\",\n",
        "                \"https://www.amazon-azom.top/\",\n",
        "                \"http://glued-preference.000webhostapp.com/\",\n",
        "                \"http://grupwhatsapp.mpdcollege.org.in/\",\n",
        "                \"http://grupwhatsapp2.qpoe.com/\",\n",
        "                \"http://chatwhatsapp-18.sexidude.com/\",\n",
        "                \"http://allure.gr/wp-content/index.html?HVtEWzRdxTfcVGvBHJInIkOMJIbhUvgFCdgXsEXRCDfGVhBJniNUHYGV\",\n",
        "                \"https://lemosomc.com/gleed/gleeds_co_uksourcedoc9CB20F6942AE/60102457i2E9AE8133647j69i60j69i57j69i60l33666j0j7&amp;sourceidv/b3268586089630f8d0546aab71021b69/\",\n",
        "                \"https://freegroup18plus.000webhostapp.com/\",\n",
        "                \"https://kacong86.000webhostapp.com/\",\n",
        "                \"https://www.grupwhatsapp2.qpoe.com/\",\n",
        "                \"http://exceptive-cargoes.000webhostapp.com/\",\n",
        "                \"http://www.uk-delivery.support/RoyalMail/verifylogin.php?&amp;sessionid=$hash&amp;securessl=true\",\n",
        "                \"http://new-halibeneficiary.co.uk/\",\n",
        "                \"http://swap-giffgaff.support/\",\n",
        "                \"https://www.jdaijglksd.top/pc\",\n",
        "                \"https://www.grupwhatsapp2.qpoe.com/login.php\",\n",
        "                \"https://www.cancellation-payee-app.com/Login.php\",\n",
        "                \"https://www.deny-secure-payee.com/Login.php\",\n",
        "                \"https://www.apple-i.cloud-locked.com/twofactor.php\",\n",
        "                \"https://www.app-payee-cancellation.com/Login.php\",\n",
        "                \"https://testenglish.club/sec0re/verification.php\",\n",
        "                \"https://suspfacebookcom-05851104.nightaway.ca/connect.html?timelimit=0151c0f72d5ce196291e71c44e91aa7d\",\n",
        "                \"https://tenisclubemc.com.br/Connections/xx/\",\n",
        "                \"https://testenglish.club/sec0re/signin.php\",\n",
        "                \"https://payee-confirm.co/secure/\",\n",
        "                \"https://themarkadvantage.com/confirm-password\",\n",
        "                \"https://busquaich.com/offie2021/3d/3d\",\n",
        "                \"https://abonnement-fr-fr.com/loading.php?cmd=login_submit&amp;id=&amp;session=\",\n",
        "                \"https://alpine-hazel-beetle.glitch.me/?email=\"\n",
        "               ]"
      ],
      "execution_count": 1,
      "outputs": []
    },
    {
      "cell_type": "markdown",
      "metadata": {
        "id": "8C71OlPs2Lbp"
      },
      "source": [
        "Here I extract the features and store them in a dictionary with one entry for each url. The value of the key-value pair where the key is the url is another dictionary with the features. "
      ]
    },
    {
      "cell_type": "code",
      "metadata": {
        "id": "gKF00tmTyuom"
      },
      "source": [
        "import requests\n",
        "\n",
        "def get_request_object(url):\n",
        "  try:\n",
        "      return requests.get(url)\n",
        "  except:\n",
        "    print('Problem with http request – skipping url: ' + url)\n",
        "\n",
        "#high amount of redirects suspicious\n",
        "def count_redirects(request_object):\n",
        "      return {'redirects' : len(request_object.history)}\n",
        "\n",
        "#statistical features of the urls\n",
        "def get_url_features(url, prefix):\n",
        "    feature_dict = {}\n",
        "    feature_dict[prefix + 'url_length'] = len(url)\n",
        "    splitted = url.split('/')\n",
        "    domain = splitted[2]\n",
        "    #domain levels are counted as dots, in reality they are dots + 1\n",
        "    feature_dict[prefix + 'domain_levels'] = domain.count('.')\n",
        "    #count dots in last part of url\n",
        "    freeurl = url[(url.index(domain) + len(domain) + 1):]\n",
        "    feature_dict[prefix + 'free_url_dots'] = freeurl.count('.')\n",
        "    feature_dict[prefix + 'free_url_levels'] = freeurl.count('/')\n",
        "    return feature_dict\n",
        "\n",
        "#driver function for getting the dictionary with urls and features\n",
        "def get_dict(url_list):\n",
        "  url_dict = {}\n",
        "\n",
        "  for url in url_list:\n",
        "      #the urls can have different formats, make sure they all include http:// or https://\n",
        "      url = url if url.startswith('http') else ('http://' + url)\n",
        "      request_object = get_request_object(url)\n",
        "      if request_object:\n",
        "        redirect_dict = count_redirects(request_object)\n",
        "        url_features_dict = get_url_features(url, 'start_')\n",
        "        landing_url = request_object.url\n",
        "        landing_url_features_dict = get_url_features(landing_url, 'landing_')\n",
        "        feature_dict = {**redirect_dict, **url_features_dict, **landing_url_features_dict}\n",
        "        url_dict[url] = feature_dict\n",
        "\n",
        "  return url_dict"
      ],
      "execution_count": 2,
      "outputs": []
    },
    {
      "cell_type": "markdown",
      "metadata": {
        "id": "t-JIQG6b1RSl"
      },
      "source": [
        "Time to visualize! I chose to visualize the length of the url. I plotted them for starting urls and landing urls (the original url and the one it redirects to, that is). "
      ]
    },
    {
      "cell_type": "code",
      "metadata": {
        "colab": {
          "base_uri": "https://localhost:8080/",
          "height": 418
        },
        "id": "I-7Cj7Vsy12r",
        "outputId": "f76dcbc6-0dd6-4760-bdab-f76d7ca16478"
      },
      "source": [
        "import pandas as pd\n",
        "\n",
        "url_dict = get_dict(example_urls)\n",
        "data_dict = {}\n",
        "data_dict['start_url_length'] = [n['start_url_length'] for n in url_dict.values()]\n",
        "data_dict['landing_url_length'] = [n['landing_url_length'] for n in url_dict.values()]\n",
        "\n",
        "df = pd.DataFrame.from_dict(data_dict)\n",
        "df.plot.hist(alpha=0.5, stacked=True)"
      ],
      "execution_count": 3,
      "outputs": [
        {
          "output_type": "stream",
          "text": [
            "Problem with http request – skipping url: https://centralldaconsulta.com/\n",
            "Problem with http request – skipping url: http://swap-giffgaff.support/\n",
            "Problem with http request – skipping url: https://www.jdaijglksd.top/pc\n",
            "Problem with http request – skipping url: https://www.cancellation-payee-app.com/Login.php\n",
            "Problem with http request – skipping url: https://www.apple-i.cloud-locked.com/twofactor.php\n",
            "Problem with http request – skipping url: https://www.app-payee-cancellation.com/Login.php\n",
            "Problem with http request – skipping url: https://themarkadvantage.com/confirm-password\n",
            "Problem with http request – skipping url: https://abonnement-fr-fr.com/loading.php?cmd=login_submit&amp;id=&amp;session=\n"
          ],
          "name": "stdout"
        },
        {
          "output_type": "execute_result",
          "data": {
            "text/plain": [
              "<matplotlib.axes._subplots.AxesSubplot at 0x7fe1118fa9e8>"
            ]
          },
          "metadata": {
            "tags": []
          },
          "execution_count": 3
        },
        {
          "output_type": "display_data",
          "data": {
            "image/png": "[encoded data removed]",
            "text/plain": [
              "<Figure size 432x288 with 1 Axes>"
            ]
          },
          "metadata": {
            "tags": [],
            "needs_background": "light"
          }
        }
      ]
    },
    {
      "cell_type": "markdown",
      "metadata": {
        "id": "jc84mpS8MtSx"
      },
      "source": [
        "The above graph tells me that most of the malicious urls are under 40 characters long, but a fair deal of them also go over that number. The urls the malicious urls redirect to seem to be slightly longer than the original ones on average.\n",
        "\n",
        "Quite interesting! But let's have some fun and check how this compares with urls from a probable whitelist."
      ]
    },
    {
      "cell_type": "code",
      "metadata": {
        "id": "4ce2dpEgM2hA"
      },
      "source": [
        "#taken from cisco umbrella 10.2.2021\n",
        "white_urls = [\n",
        "              \"www.bing.com\",\n",
        "              \"googletagmanager.com\",\n",
        "              \"www.googletagmanager.com\",\n",
        "              \"windows.com\",\n",
        "              \"teams.microsoft.com\",\n",
        "              \"digicert.com\",\n",
        "              \"lh3.googleusercontent.com\",\n",
        "              \"adservice.google.com\",\n",
        "              \"windows.net\",\n",
        "              \"amazonaws.com\",\n",
        "              \"tile-service.weather.microsoft.com\",\n",
        "              \"googlevideo.com\",\n",
        "              \"stats.g.doubleclick.net\",\n",
        "              \"ocsp.digicert.com\",\n",
        "              \"content-autofill.googleapis.com\",\n",
        "              \"beacons.gcp.gvt2.com\",\n",
        "              \"yahoo.com\",\n",
        "              \"clients6.google.com\",\n",
        "              \"android.clients.google.com\",\n",
        "              \"prod.do.dsp.mp.microsoft.com\",\n",
        "              \"www.apple.com\",\n",
        "              \"connect.facebook.net\",\n",
        "              \"yt3.ggpht.com\",\n",
        "              \"do.dsp.mp.microsoft.com\",\n",
        "              \"presence.teams.microsoft.com\",\n",
        "              \"opendns.com\",\n",
        "              \"crl.identrust.com\",\n",
        "              \"akamai.net\",\n",
        "              \"ib.adnxs.com\",\n",
        "              \"akamaihd.net\",\n",
        "              \"cdnjs.cloudflare.com\",\n",
        "              \"mesu.apple.com\",\n",
        "              \"odc.officeapps.live.com\",\n",
        "              \"safeframe.googlesyndication.com\",\n",
        "              \"tsfe.trafficshaping.dsp.mp.microsoft.com\",\n",
        "              \"ocsp.pki.goog\",\n",
        "              \"nexus.officeapps.live.com\",\n",
        "              \"pubmatic.com\",\n",
        "              \"c10r.facebook.com\",\n",
        "              \"demdex.net\",\n",
        "              \"safebrowsing.google.com\",\n",
        "]"
      ],
      "execution_count": 4,
      "outputs": []
    },
    {
      "cell_type": "code",
      "metadata": {
        "colab": {
          "base_uri": "https://localhost:8080/",
          "height": 455
        },
        "id": "CJmSB5ihO73f",
        "outputId": "0951348c-6b04-4df8-a4e5-73519df9bcfe"
      },
      "source": [
        "white_url_dict = get_dict(white_urls)\n",
        "\n",
        "white_data_dict = {}\n",
        "white_data_dict['white_start_url_length'] = [n['start_url_length'] for n in white_url_dict.values()]\n",
        "white_data_dict['white_landing_url_length'] = [n['landing_url_length'] for n in white_url_dict.values()]\n",
        "\n",
        "df2 = pd.DataFrame.from_dict(white_data_dict)\n",
        "total_df = pd.concat([df, df2], axis=1)\n",
        "total_df.plot.hist(alpha=0.5, stacked = True)\n"
      ],
      "execution_count": 5,
      "outputs": [
        {
          "output_type": "stream",
          "text": [
            "Problem with http request – skipping url: http://prod.do.dsp.mp.microsoft.com\n",
            "Problem with http request – skipping url: http://do.dsp.mp.microsoft.com\n",
            "Problem with http request – skipping url: http://presence.teams.microsoft.com\n",
            "Problem with http request – skipping url: http://akamai.net\n",
            "Problem with http request – skipping url: http://akamaihd.net\n",
            "Problem with http request – skipping url: http://safeframe.googlesyndication.com\n",
            "Problem with http request – skipping url: http://tsfe.trafficshaping.dsp.mp.microsoft.com\n",
            "Problem with http request – skipping url: http://nexus.officeapps.live.com\n",
            "Problem with http request – skipping url: http://c10r.facebook.com\n",
            "Problem with http request – skipping url: http://demdex.net\n"
          ],
          "name": "stdout"
        },
        {
          "output_type": "execute_result",
          "data": {
            "text/plain": [
              "<matplotlib.axes._subplots.AxesSubplot at 0x7fe1113157f0>"
            ]
          },
          "metadata": {
            "tags": []
          },
          "execution_count": 5
        },
        {
          "output_type": "display_data",
          "data": {
            "image/png": "[encoded data removed]",
            "text/plain": [
              "<Figure size 432x288 with 1 Axes>"
            ]
          },
          "metadata": {
            "tags": [],
            "needs_background": "light"
          }
        }
      ]
    },
    {
      "cell_type": "markdown",
      "metadata": {
        "id": "5Il4hY8fXKpF"
      },
      "source": [
        "That's very cool! \n",
        "\n",
        "Here we can see that the urls from the whitelist (plotted in green for start url and red for landing url) are notably shorter than the malicious ones. We also see the same trend, that the landing url is slightly longer than the starting url, for the whitelisted urls – so this does not seem to indicate that a site is a phishing site.\n",
        "\n",
        "After 60 characters there are no whitelist sites on this graph, which would indicate that 60 chars might be a good cutoff value for the length of the url for a prediction model. There are also very few whitelisted urls after 30 chars, so depending on the other features of the model 30 could also be a candidate cutoff number.\n",
        "\n",
        "\n",
        "However, I would think twice about drawing conclusions from a dataset of this size – but if this is all we have, we still get an indication. We would need larger datasets to test on and to include more features to actually make a prediction model, but this is a quite good start!\n",
        "\n"
      ]
    }
  ]
}